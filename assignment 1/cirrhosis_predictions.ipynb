{
  "nbformat": 4,
  "nbformat_minor": 0,
  "metadata": {
    "colab": {
      "provenance": []
    },
    "kernelspec": {
      "name": "python3",
      "display_name": "Python 3"
    },
    "language_info": {
      "name": "python"
    }
  },
  "cells": [
    {
      "cell_type": "markdown",
      "source": [
        "#DataPREP"
      ],
      "metadata": {
        "id": "pn-KFAee-Jf-"
      }
    },
    {
      "cell_type": "code",
      "source": [
        "!unzip /content/dataset5.zip"
      ],
      "metadata": {
        "colab": {
          "base_uri": "https://localhost:8080/"
        },
        "id": "Pkj2hZJM8kMf",
        "outputId": "e3618c5e-cd10-4bf8-f583-46eb979e47f7"
      },
      "execution_count": 1,
      "outputs": [
        {
          "output_type": "stream",
          "name": "stdout",
          "text": [
            "Archive:  /content/dataset5.zip\n",
            "  inflating: cirrhosis.csv           \n"
          ]
        }
      ]
    },
    {
      "cell_type": "code",
      "source": [
        "!pip install -q catboost"
      ],
      "metadata": {
        "colab": {
          "base_uri": "https://localhost:8080/"
        },
        "id": "p21mwoEKBnFJ",
        "outputId": "144a8c43-dd12-47cb-e28a-26cd07c22b7b"
      },
      "execution_count": 2,
      "outputs": [
        {
          "output_type": "stream",
          "name": "stdout",
          "text": [
            "\u001b[2K     \u001b[90m━━━━━━━━━━━━━━━━━━━━━━━━━━━━━━━━━━━━━━━━\u001b[0m \u001b[32m98.7/98.7 MB\u001b[0m \u001b[31m4.7 MB/s\u001b[0m eta \u001b[36m0:00:00\u001b[0m\n",
            "\u001b[?25h"
          ]
        }
      ]
    },
    {
      "cell_type": "markdown",
      "source": [
        "#Imports"
      ],
      "metadata": {
        "id": "hzvFnnfR-FD9"
      }
    },
    {
      "cell_type": "code",
      "execution_count": 21,
      "metadata": {
        "id": "8279C3oO8Pni"
      },
      "outputs": [],
      "source": [
        "import pandas as pd\n",
        "import numpy as np\n",
        "import matplotlib.pyplot as plt\n",
        "import seaborn as sns\n",
        "import pickle\n",
        "import xgboost as xgb\n",
        "import matplotlib.pyplot as plt\n",
        "import pandas as pd\n",
        "from catboost import CatBoostClassifier\n",
        "from lightgbm import LGBMRegressor\n",
        "import numpy as np\n",
        "from tqdm import tqdm\n",
        "from time import sleep\n",
        "from sklearn.model_selection import train_test_split\n",
        "from sklearn.preprocessing import LabelEncoder\n",
        "from sklearn.metrics import mean_absolute_error\n",
        "from sklearn.feature_selection import VarianceThreshold"
      ]
    },
    {
      "cell_type": "code",
      "source": [
        "import keras\n",
        "from keras import optimizers\n",
        "from keras.models import Sequential, Model\n",
        "from keras.layers import Dense\n",
        "import tensorflow as tf"
      ],
      "metadata": {
        "id": "ep0GQbIz7WAu"
      },
      "execution_count": 19,
      "outputs": []
    },
    {
      "cell_type": "markdown",
      "source": [
        "#EDA"
      ],
      "metadata": {
        "id": "xrSjwTSr-H5E"
      }
    },
    {
      "cell_type": "code",
      "source": [
        "df = pd.read_csv(\"/content/cirrhosis.csv\").set_index(\"ID\")\n",
        "print(df.shape)\n",
        "df.head()"
      ],
      "metadata": {
        "colab": {
          "base_uri": "https://localhost:8080/",
          "height": 255
        },
        "id": "tm5TwlVx8kB_",
        "outputId": "32f6f9de-4d00-4a61-8365-22310ea0b68d"
      },
      "execution_count": 4,
      "outputs": [
        {
          "output_type": "stream",
          "name": "stdout",
          "text": [
            "(418, 19)\n"
          ]
        },
        {
          "output_type": "execute_result",
          "data": {
            "text/plain": [
              "    N_Days Status             Drug    Age Sex Ascites Hepatomegaly Spiders  \\\n",
              "ID                                                                           \n",
              "1      400      D  D-penicillamine  21464   F       Y            Y       Y   \n",
              "2     4500      C  D-penicillamine  20617   F       N            Y       Y   \n",
              "3     1012      D  D-penicillamine  25594   M       N            N       N   \n",
              "4     1925      D  D-penicillamine  19994   F       N            Y       Y   \n",
              "5     1504     CL          Placebo  13918   F       N            Y       Y   \n",
              "\n",
              "   Edema  Bilirubin  Cholesterol  Albumin  Copper  Alk_Phos    SGOT  \\\n",
              "ID                                                                    \n",
              "1      Y       14.5        261.0     2.60   156.0    1718.0  137.95   \n",
              "2      N        1.1        302.0     4.14    54.0    7394.8  113.52   \n",
              "3      S        1.4        176.0     3.48   210.0     516.0   96.10   \n",
              "4      S        1.8        244.0     2.54    64.0    6121.8   60.63   \n",
              "5      N        3.4        279.0     3.53   143.0     671.0  113.15   \n",
              "\n",
              "    Tryglicerides  Platelets  Prothrombin  Stage  \n",
              "ID                                                \n",
              "1           172.0      190.0         12.2    4.0  \n",
              "2            88.0      221.0         10.6    3.0  \n",
              "3            55.0      151.0         12.0    4.0  \n",
              "4            92.0      183.0         10.3    4.0  \n",
              "5            72.0      136.0         10.9    3.0  "
            ],
            "text/html": [
              "\n",
              "  <div id=\"df-3dac1aac-2abd-4371-93f7-5d1337f7fe1f\" class=\"colab-df-container\">\n",
              "    <div>\n",
              "<style scoped>\n",
              "    .dataframe tbody tr th:only-of-type {\n",
              "        vertical-align: middle;\n",
              "    }\n",
              "\n",
              "    .dataframe tbody tr th {\n",
              "        vertical-align: top;\n",
              "    }\n",
              "\n",
              "    .dataframe thead th {\n",
              "        text-align: right;\n",
              "    }\n",
              "</style>\n",
              "<table border=\"1\" class=\"dataframe\">\n",
              "  <thead>\n",
              "    <tr style=\"text-align: right;\">\n",
              "      <th></th>\n",
              "      <th>N_Days</th>\n",
              "      <th>Status</th>\n",
              "      <th>Drug</th>\n",
              "      <th>Age</th>\n",
              "      <th>Sex</th>\n",
              "      <th>Ascites</th>\n",
              "      <th>Hepatomegaly</th>\n",
              "      <th>Spiders</th>\n",
              "      <th>Edema</th>\n",
              "      <th>Bilirubin</th>\n",
              "      <th>Cholesterol</th>\n",
              "      <th>Albumin</th>\n",
              "      <th>Copper</th>\n",
              "      <th>Alk_Phos</th>\n",
              "      <th>SGOT</th>\n",
              "      <th>Tryglicerides</th>\n",
              "      <th>Platelets</th>\n",
              "      <th>Prothrombin</th>\n",
              "      <th>Stage</th>\n",
              "    </tr>\n",
              "    <tr>\n",
              "      <th>ID</th>\n",
              "      <th></th>\n",
              "      <th></th>\n",
              "      <th></th>\n",
              "      <th></th>\n",
              "      <th></th>\n",
              "      <th></th>\n",
              "      <th></th>\n",
              "      <th></th>\n",
              "      <th></th>\n",
              "      <th></th>\n",
              "      <th></th>\n",
              "      <th></th>\n",
              "      <th></th>\n",
              "      <th></th>\n",
              "      <th></th>\n",
              "      <th></th>\n",
              "      <th></th>\n",
              "      <th></th>\n",
              "      <th></th>\n",
              "    </tr>\n",
              "  </thead>\n",
              "  <tbody>\n",
              "    <tr>\n",
              "      <th>1</th>\n",
              "      <td>400</td>\n",
              "      <td>D</td>\n",
              "      <td>D-penicillamine</td>\n",
              "      <td>21464</td>\n",
              "      <td>F</td>\n",
              "      <td>Y</td>\n",
              "      <td>Y</td>\n",
              "      <td>Y</td>\n",
              "      <td>Y</td>\n",
              "      <td>14.5</td>\n",
              "      <td>261.0</td>\n",
              "      <td>2.60</td>\n",
              "      <td>156.0</td>\n",
              "      <td>1718.0</td>\n",
              "      <td>137.95</td>\n",
              "      <td>172.0</td>\n",
              "      <td>190.0</td>\n",
              "      <td>12.2</td>\n",
              "      <td>4.0</td>\n",
              "    </tr>\n",
              "    <tr>\n",
              "      <th>2</th>\n",
              "      <td>4500</td>\n",
              "      <td>C</td>\n",
              "      <td>D-penicillamine</td>\n",
              "      <td>20617</td>\n",
              "      <td>F</td>\n",
              "      <td>N</td>\n",
              "      <td>Y</td>\n",
              "      <td>Y</td>\n",
              "      <td>N</td>\n",
              "      <td>1.1</td>\n",
              "      <td>302.0</td>\n",
              "      <td>4.14</td>\n",
              "      <td>54.0</td>\n",
              "      <td>7394.8</td>\n",
              "      <td>113.52</td>\n",
              "      <td>88.0</td>\n",
              "      <td>221.0</td>\n",
              "      <td>10.6</td>\n",
              "      <td>3.0</td>\n",
              "    </tr>\n",
              "    <tr>\n",
              "      <th>3</th>\n",
              "      <td>1012</td>\n",
              "      <td>D</td>\n",
              "      <td>D-penicillamine</td>\n",
              "      <td>25594</td>\n",
              "      <td>M</td>\n",
              "      <td>N</td>\n",
              "      <td>N</td>\n",
              "      <td>N</td>\n",
              "      <td>S</td>\n",
              "      <td>1.4</td>\n",
              "      <td>176.0</td>\n",
              "      <td>3.48</td>\n",
              "      <td>210.0</td>\n",
              "      <td>516.0</td>\n",
              "      <td>96.10</td>\n",
              "      <td>55.0</td>\n",
              "      <td>151.0</td>\n",
              "      <td>12.0</td>\n",
              "      <td>4.0</td>\n",
              "    </tr>\n",
              "    <tr>\n",
              "      <th>4</th>\n",
              "      <td>1925</td>\n",
              "      <td>D</td>\n",
              "      <td>D-penicillamine</td>\n",
              "      <td>19994</td>\n",
              "      <td>F</td>\n",
              "      <td>N</td>\n",
              "      <td>Y</td>\n",
              "      <td>Y</td>\n",
              "      <td>S</td>\n",
              "      <td>1.8</td>\n",
              "      <td>244.0</td>\n",
              "      <td>2.54</td>\n",
              "      <td>64.0</td>\n",
              "      <td>6121.8</td>\n",
              "      <td>60.63</td>\n",
              "      <td>92.0</td>\n",
              "      <td>183.0</td>\n",
              "      <td>10.3</td>\n",
              "      <td>4.0</td>\n",
              "    </tr>\n",
              "    <tr>\n",
              "      <th>5</th>\n",
              "      <td>1504</td>\n",
              "      <td>CL</td>\n",
              "      <td>Placebo</td>\n",
              "      <td>13918</td>\n",
              "      <td>F</td>\n",
              "      <td>N</td>\n",
              "      <td>Y</td>\n",
              "      <td>Y</td>\n",
              "      <td>N</td>\n",
              "      <td>3.4</td>\n",
              "      <td>279.0</td>\n",
              "      <td>3.53</td>\n",
              "      <td>143.0</td>\n",
              "      <td>671.0</td>\n",
              "      <td>113.15</td>\n",
              "      <td>72.0</td>\n",
              "      <td>136.0</td>\n",
              "      <td>10.9</td>\n",
              "      <td>3.0</td>\n",
              "    </tr>\n",
              "  </tbody>\n",
              "</table>\n",
              "</div>\n",
              "    <div class=\"colab-df-buttons\">\n",
              "\n",
              "  <div class=\"colab-df-container\">\n",
              "    <button class=\"colab-df-convert\" onclick=\"convertToInteractive('df-3dac1aac-2abd-4371-93f7-5d1337f7fe1f')\"\n",
              "            title=\"Convert this dataframe to an interactive table.\"\n",
              "            style=\"display:none;\">\n",
              "\n",
              "  <svg xmlns=\"http://www.w3.org/2000/svg\" height=\"24px\" viewBox=\"0 -960 960 960\">\n",
              "    <path d=\"M120-120v-720h720v720H120Zm60-500h600v-160H180v160Zm220 220h160v-160H400v160Zm0 220h160v-160H400v160ZM180-400h160v-160H180v160Zm440 0h160v-160H620v160ZM180-180h160v-160H180v160Zm440 0h160v-160H620v160Z\"/>\n",
              "  </svg>\n",
              "    </button>\n",
              "\n",
              "  <style>\n",
              "    .colab-df-container {\n",
              "      display:flex;\n",
              "      gap: 12px;\n",
              "    }\n",
              "\n",
              "    .colab-df-convert {\n",
              "      background-color: #E8F0FE;\n",
              "      border: none;\n",
              "      border-radius: 50%;\n",
              "      cursor: pointer;\n",
              "      display: none;\n",
              "      fill: #1967D2;\n",
              "      height: 32px;\n",
              "      padding: 0 0 0 0;\n",
              "      width: 32px;\n",
              "    }\n",
              "\n",
              "    .colab-df-convert:hover {\n",
              "      background-color: #E2EBFA;\n",
              "      box-shadow: 0px 1px 2px rgba(60, 64, 67, 0.3), 0px 1px 3px 1px rgba(60, 64, 67, 0.15);\n",
              "      fill: #174EA6;\n",
              "    }\n",
              "\n",
              "    .colab-df-buttons div {\n",
              "      margin-bottom: 4px;\n",
              "    }\n",
              "\n",
              "    [theme=dark] .colab-df-convert {\n",
              "      background-color: #3B4455;\n",
              "      fill: #D2E3FC;\n",
              "    }\n",
              "\n",
              "    [theme=dark] .colab-df-convert:hover {\n",
              "      background-color: #434B5C;\n",
              "      box-shadow: 0px 1px 3px 1px rgba(0, 0, 0, 0.15);\n",
              "      filter: drop-shadow(0px 1px 2px rgba(0, 0, 0, 0.3));\n",
              "      fill: #FFFFFF;\n",
              "    }\n",
              "  </style>\n",
              "\n",
              "    <script>\n",
              "      const buttonEl =\n",
              "        document.querySelector('#df-3dac1aac-2abd-4371-93f7-5d1337f7fe1f button.colab-df-convert');\n",
              "      buttonEl.style.display =\n",
              "        google.colab.kernel.accessAllowed ? 'block' : 'none';\n",
              "\n",
              "      async function convertToInteractive(key) {\n",
              "        const element = document.querySelector('#df-3dac1aac-2abd-4371-93f7-5d1337f7fe1f');\n",
              "        const dataTable =\n",
              "          await google.colab.kernel.invokeFunction('convertToInteractive',\n",
              "                                                    [key], {});\n",
              "        if (!dataTable) return;\n",
              "\n",
              "        const docLinkHtml = 'Like what you see? Visit the ' +\n",
              "          '<a target=\"_blank\" href=https://colab.research.google.com/notebooks/data_table.ipynb>data table notebook</a>'\n",
              "          + ' to learn more about interactive tables.';\n",
              "        element.innerHTML = '';\n",
              "        dataTable['output_type'] = 'display_data';\n",
              "        await google.colab.output.renderOutput(dataTable, element);\n",
              "        const docLink = document.createElement('div');\n",
              "        docLink.innerHTML = docLinkHtml;\n",
              "        element.appendChild(docLink);\n",
              "      }\n",
              "    </script>\n",
              "  </div>\n",
              "\n",
              "\n",
              "<div id=\"df-39209c13-41c4-4538-a064-e02a352f7938\">\n",
              "  <button class=\"colab-df-quickchart\" onclick=\"quickchart('df-39209c13-41c4-4538-a064-e02a352f7938')\"\n",
              "            title=\"Suggest charts\"\n",
              "            style=\"display:none;\">\n",
              "\n",
              "<svg xmlns=\"http://www.w3.org/2000/svg\" height=\"24px\"viewBox=\"0 0 24 24\"\n",
              "     width=\"24px\">\n",
              "    <g>\n",
              "        <path d=\"M19 3H5c-1.1 0-2 .9-2 2v14c0 1.1.9 2 2 2h14c1.1 0 2-.9 2-2V5c0-1.1-.9-2-2-2zM9 17H7v-7h2v7zm4 0h-2V7h2v10zm4 0h-2v-4h2v4z\"/>\n",
              "    </g>\n",
              "</svg>\n",
              "  </button>\n",
              "\n",
              "<style>\n",
              "  .colab-df-quickchart {\n",
              "      --bg-color: #E8F0FE;\n",
              "      --fill-color: #1967D2;\n",
              "      --hover-bg-color: #E2EBFA;\n",
              "      --hover-fill-color: #174EA6;\n",
              "      --disabled-fill-color: #AAA;\n",
              "      --disabled-bg-color: #DDD;\n",
              "  }\n",
              "\n",
              "  [theme=dark] .colab-df-quickchart {\n",
              "      --bg-color: #3B4455;\n",
              "      --fill-color: #D2E3FC;\n",
              "      --hover-bg-color: #434B5C;\n",
              "      --hover-fill-color: #FFFFFF;\n",
              "      --disabled-bg-color: #3B4455;\n",
              "      --disabled-fill-color: #666;\n",
              "  }\n",
              "\n",
              "  .colab-df-quickchart {\n",
              "    background-color: var(--bg-color);\n",
              "    border: none;\n",
              "    border-radius: 50%;\n",
              "    cursor: pointer;\n",
              "    display: none;\n",
              "    fill: var(--fill-color);\n",
              "    height: 32px;\n",
              "    padding: 0;\n",
              "    width: 32px;\n",
              "  }\n",
              "\n",
              "  .colab-df-quickchart:hover {\n",
              "    background-color: var(--hover-bg-color);\n",
              "    box-shadow: 0 1px 2px rgba(60, 64, 67, 0.3), 0 1px 3px 1px rgba(60, 64, 67, 0.15);\n",
              "    fill: var(--button-hover-fill-color);\n",
              "  }\n",
              "\n",
              "  .colab-df-quickchart-complete:disabled,\n",
              "  .colab-df-quickchart-complete:disabled:hover {\n",
              "    background-color: var(--disabled-bg-color);\n",
              "    fill: var(--disabled-fill-color);\n",
              "    box-shadow: none;\n",
              "  }\n",
              "\n",
              "  .colab-df-spinner {\n",
              "    border: 2px solid var(--fill-color);\n",
              "    border-color: transparent;\n",
              "    border-bottom-color: var(--fill-color);\n",
              "    animation:\n",
              "      spin 1s steps(1) infinite;\n",
              "  }\n",
              "\n",
              "  @keyframes spin {\n",
              "    0% {\n",
              "      border-color: transparent;\n",
              "      border-bottom-color: var(--fill-color);\n",
              "      border-left-color: var(--fill-color);\n",
              "    }\n",
              "    20% {\n",
              "      border-color: transparent;\n",
              "      border-left-color: var(--fill-color);\n",
              "      border-top-color: var(--fill-color);\n",
              "    }\n",
              "    30% {\n",
              "      border-color: transparent;\n",
              "      border-left-color: var(--fill-color);\n",
              "      border-top-color: var(--fill-color);\n",
              "      border-right-color: var(--fill-color);\n",
              "    }\n",
              "    40% {\n",
              "      border-color: transparent;\n",
              "      border-right-color: var(--fill-color);\n",
              "      border-top-color: var(--fill-color);\n",
              "    }\n",
              "    60% {\n",
              "      border-color: transparent;\n",
              "      border-right-color: var(--fill-color);\n",
              "    }\n",
              "    80% {\n",
              "      border-color: transparent;\n",
              "      border-right-color: var(--fill-color);\n",
              "      border-bottom-color: var(--fill-color);\n",
              "    }\n",
              "    90% {\n",
              "      border-color: transparent;\n",
              "      border-bottom-color: var(--fill-color);\n",
              "    }\n",
              "  }\n",
              "</style>\n",
              "\n",
              "  <script>\n",
              "    async function quickchart(key) {\n",
              "      const quickchartButtonEl =\n",
              "        document.querySelector('#' + key + ' button');\n",
              "      quickchartButtonEl.disabled = true;  // To prevent multiple clicks.\n",
              "      quickchartButtonEl.classList.add('colab-df-spinner');\n",
              "      try {\n",
              "        const charts = await google.colab.kernel.invokeFunction(\n",
              "            'suggestCharts', [key], {});\n",
              "      } catch (error) {\n",
              "        console.error('Error during call to suggestCharts:', error);\n",
              "      }\n",
              "      quickchartButtonEl.classList.remove('colab-df-spinner');\n",
              "      quickchartButtonEl.classList.add('colab-df-quickchart-complete');\n",
              "    }\n",
              "    (() => {\n",
              "      let quickchartButtonEl =\n",
              "        document.querySelector('#df-39209c13-41c4-4538-a064-e02a352f7938 button');\n",
              "      quickchartButtonEl.style.display =\n",
              "        google.colab.kernel.accessAllowed ? 'block' : 'none';\n",
              "    })();\n",
              "  </script>\n",
              "</div>\n",
              "    </div>\n",
              "  </div>\n"
            ]
          },
          "metadata": {},
          "execution_count": 4
        }
      ]
    },
    {
      "cell_type": "code",
      "source": [
        "df.info()"
      ],
      "metadata": {
        "colab": {
          "base_uri": "https://localhost:8080/"
        },
        "id": "4tdWQwcG9OII",
        "outputId": "57c464fa-c2b2-4fac-fa65-4543dcc19634"
      },
      "execution_count": 5,
      "outputs": [
        {
          "output_type": "stream",
          "name": "stdout",
          "text": [
            "<class 'pandas.core.frame.DataFrame'>\n",
            "Int64Index: 418 entries, 1 to 418\n",
            "Data columns (total 19 columns):\n",
            " #   Column         Non-Null Count  Dtype  \n",
            "---  ------         --------------  -----  \n",
            " 0   N_Days         418 non-null    int64  \n",
            " 1   Status         418 non-null    object \n",
            " 2   Drug           312 non-null    object \n",
            " 3   Age            418 non-null    int64  \n",
            " 4   Sex            418 non-null    object \n",
            " 5   Ascites        312 non-null    object \n",
            " 6   Hepatomegaly   312 non-null    object \n",
            " 7   Spiders        312 non-null    object \n",
            " 8   Edema          418 non-null    object \n",
            " 9   Bilirubin      418 non-null    float64\n",
            " 10  Cholesterol    284 non-null    float64\n",
            " 11  Albumin        418 non-null    float64\n",
            " 12  Copper         310 non-null    float64\n",
            " 13  Alk_Phos       312 non-null    float64\n",
            " 14  SGOT           312 non-null    float64\n",
            " 15  Tryglicerides  282 non-null    float64\n",
            " 16  Platelets      407 non-null    float64\n",
            " 17  Prothrombin    416 non-null    float64\n",
            " 18  Stage          412 non-null    float64\n",
            "dtypes: float64(10), int64(2), object(7)\n",
            "memory usage: 65.3+ KB\n"
          ]
        }
      ]
    },
    {
      "cell_type": "code",
      "source": [
        "df.isna().sum()"
      ],
      "metadata": {
        "colab": {
          "base_uri": "https://localhost:8080/"
        },
        "id": "NVDDzzEw-D7k",
        "outputId": "36f5e9d0-1984-4e08-bd3c-c37ac851b400"
      },
      "execution_count": 6,
      "outputs": [
        {
          "output_type": "execute_result",
          "data": {
            "text/plain": [
              "N_Days             0\n",
              "Status             0\n",
              "Drug             106\n",
              "Age                0\n",
              "Sex                0\n",
              "Ascites          106\n",
              "Hepatomegaly     106\n",
              "Spiders          106\n",
              "Edema              0\n",
              "Bilirubin          0\n",
              "Cholesterol      134\n",
              "Albumin            0\n",
              "Copper           108\n",
              "Alk_Phos         106\n",
              "SGOT             106\n",
              "Tryglicerides    136\n",
              "Platelets         11\n",
              "Prothrombin        2\n",
              "Stage              6\n",
              "dtype: int64"
            ]
          },
          "metadata": {},
          "execution_count": 6
        }
      ]
    },
    {
      "cell_type": "code",
      "source": [
        "df.select_dtypes(include=(['int64', 'float64'])).isna().sum()\n",
        "df_num_col = df.select_dtypes(include=(['int64', 'float64'])).columns\n",
        "for c in df_num_col:\n",
        "    df[c].fillna(df[c].median(), inplace=True)\n",
        "\n",
        "df.select_dtypes(include=(['int64', 'float64'])).isna().sum()"
      ],
      "metadata": {
        "colab": {
          "base_uri": "https://localhost:8080/"
        },
        "id": "qpgi6Mfy-TmJ",
        "outputId": "57349a2b-45b0-4f58-c5e9-856fc2d194b8"
      },
      "execution_count": 7,
      "outputs": [
        {
          "output_type": "execute_result",
          "data": {
            "text/plain": [
              "N_Days           0\n",
              "Age              0\n",
              "Bilirubin        0\n",
              "Cholesterol      0\n",
              "Albumin          0\n",
              "Copper           0\n",
              "Alk_Phos         0\n",
              "SGOT             0\n",
              "Tryglicerides    0\n",
              "Platelets        0\n",
              "Prothrombin      0\n",
              "Stage            0\n",
              "dtype: int64"
            ]
          },
          "metadata": {},
          "execution_count": 7
        }
      ]
    },
    {
      "cell_type": "code",
      "source": [
        "df.select_dtypes(include=('object')).isna().sum()"
      ],
      "metadata": {
        "colab": {
          "base_uri": "https://localhost:8080/"
        },
        "id": "on64JZz8-WW2",
        "outputId": "880ac485-6ded-491d-aed4-79acd6c049a8"
      },
      "execution_count": 8,
      "outputs": [
        {
          "output_type": "execute_result",
          "data": {
            "text/plain": [
              "Status            0\n",
              "Drug            106\n",
              "Sex               0\n",
              "Ascites         106\n",
              "Hepatomegaly    106\n",
              "Spiders         106\n",
              "Edema             0\n",
              "dtype: int64"
            ]
          },
          "metadata": {},
          "execution_count": 8
        }
      ]
    },
    {
      "cell_type": "code",
      "source": [
        "df_cat_col = df.select_dtypes(include=('object')).columns\n",
        "for c in df_cat_col:\n",
        "    df[c].fillna(df[c].mode().values[0], inplace=True)\n",
        "\n",
        "df.select_dtypes(include=('object')).isna().sum()"
      ],
      "metadata": {
        "colab": {
          "base_uri": "https://localhost:8080/"
        },
        "id": "wya6rJBD-dDH",
        "outputId": "3575f66e-98f8-4503-97cf-3934b1ff4f40"
      },
      "execution_count": 9,
      "outputs": [
        {
          "output_type": "execute_result",
          "data": {
            "text/plain": [
              "Status          0\n",
              "Drug            0\n",
              "Sex             0\n",
              "Ascites         0\n",
              "Hepatomegaly    0\n",
              "Spiders         0\n",
              "Edema           0\n",
              "dtype: int64"
            ]
          },
          "metadata": {},
          "execution_count": 9
        }
      ]
    },
    {
      "cell_type": "code",
      "source": [
        "# Гистограмма для признака 'sex'\n",
        "plt.figure(figsize=(10, 5))\n",
        "df['Sex'].value_counts().plot(kind='bar')\n",
        "plt.title('Распределение по полу')\n",
        "plt.xlabel('Пол')\n",
        "plt.ylabel('Количество')\n",
        "plt.show()"
      ],
      "metadata": {
        "colab": {
          "base_uri": "https://localhost:8080/",
          "height": 485
        },
        "id": "PW7iTziw-get",
        "outputId": "d34922ff-5be4-4f92-ee7b-e3ea30afb74e"
      },
      "execution_count": 10,
      "outputs": [
        {
          "output_type": "display_data",
          "data": {
            "text/plain": [
              "<Figure size 1000x500 with 1 Axes>"
            ],
            "image/png": "[encoded data removed]"
          },
          "metadata": {}
        }
      ]
    },
    {
      "cell_type": "code",
      "source": [
        "plt.figure(figsize=(10, 5))\n",
        "df['Stage'].value_counts().plot(kind='bar')\n",
        "plt.title('Распределение по стадиям цирроза')\n",
        "plt.xlabel('Стадия')\n",
        "plt.ylabel('Количество')\n",
        "plt.show()"
      ],
      "metadata": {
        "colab": {
          "base_uri": "https://localhost:8080/",
          "height": 495
        },
        "id": "HuPZLQyP_IM2",
        "outputId": "68b1f4ee-5d73-4842-96db-c91bd3e9d87b"
      },
      "execution_count": 11,
      "outputs": [
        {
          "output_type": "display_data",
          "data": {
            "text/plain": [
              "<Figure size 1000x500 with 1 Axes>"
            ],
            "image/png": "[encoded data removed]"
          },
          "metadata": {}
        }
      ]
    },
    {
      "cell_type": "code",
      "source": [
        "df['Stage'] = np.where(df['Stage'] == 4,1,0)"
      ],
      "metadata": {
        "id": "M7yQn7AL_Rqg"
      },
      "execution_count": 12,
      "outputs": []
    },
    {
      "cell_type": "code",
      "source": [
        "plt.subplot(2,3,1)\n",
        "sns.countplot(x=df['Stage'], hue=df['Sex'],alpha=0.9)\n",
        "sns.despine(top=True, right=True, bottom=True, left=True)\n",
        "plt.tick_params(axis='both', which='both', bottom=False, top=False, left=False)\n",
        "plt.xlabel('')\n",
        "plt.title('Распределение по полу')"
      ],
      "metadata": {
        "colab": {
          "base_uri": "https://localhost:8080/",
          "height": 268
        },
        "id": "3nE7LpQj_iMu",
        "outputId": "69579038-cbe6-4a42-c1e4-4ae62d4da1d0"
      },
      "execution_count": 13,
      "outputs": [
        {
          "output_type": "execute_result",
          "data": {
            "text/plain": [
              "Text(0.5, 1.0, 'Распределение по полу')"
            ]
          },
          "metadata": {},
          "execution_count": 13
        },
        {
          "output_type": "display_data",
          "data": {
            "text/plain": [
              "<Figure size 640x480 with 1 Axes>"
            ],
            "image/png": "[encoded data removed]"
          },
          "metadata": {}
        }
      ]
    },
    {
      "cell_type": "code",
      "source": [
        "plt.subplot(3,3,4)\n",
        "sns.kdeplot(x=df['Age'], hue=df['Stage'], fill=True, common_norm=True)\n",
        "sns.despine(top=True, right=True, bottom=True, left=True)\n",
        "plt.tick_params(axis='both', which='both', bottom=False, top=False, left=False)\n",
        "plt.xlabel('')\n",
        "plt.title('Распределение по возрасту');"
      ],
      "metadata": {
        "colab": {
          "base_uri": "https://localhost:8080/",
          "height": 206
        },
        "id": "svWHTdsG_5u3",
        "outputId": "7b30f8d3-5ef0-4fb1-e9a5-e39d8617fb56"
      },
      "execution_count": 14,
      "outputs": [
        {
          "output_type": "display_data",
          "data": {
            "text/plain": [
              "<Figure size 640x480 with 1 Axes>"
            ],
            "image/png": "[encoded data removed]"
          },
          "metadata": {}
        }
      ]
    },
    {
      "cell_type": "code",
      "source": [
        "df['Sex'] = df['Sex'].replace({'M':0, 'F':1})\n",
        "df['Ascites'] = df['Ascites'].replace({'N':0, 'Y':1})\n",
        "df['Drug'] = df['Drug'].replace({'D-penicillamine':0, 'Placebo':1})\n",
        "df['Hepatomegaly'] = df['Hepatomegaly'].replace({'N':0, 'Y':1})\n",
        "df['Spiders'] = df['Spiders'].replace({'N':0, 'Y':1})\n",
        "df['Edema'] = df['Edema'].replace({'N':0, 'Y':1, 'S':-1})\n",
        "df['Status'] = df['Status'].replace({'C':0, 'CL':1, 'D':-1})"
      ],
      "metadata": {
        "id": "1bSAQQJlAu_d"
      },
      "execution_count": 15,
      "outputs": []
    },
    {
      "cell_type": "code",
      "source": [
        "X = df.drop(['Status', 'N_Days', 'Stage'], axis=1)\n",
        "y = df.pop('Stage')"
      ],
      "metadata": {
        "id": "GbBuC8v1AzK9"
      },
      "execution_count": 16,
      "outputs": []
    },
    {
      "cell_type": "code",
      "source": [
        "X.head()"
      ],
      "metadata": {
        "colab": {
          "base_uri": "https://localhost:8080/",
          "height": 238
        },
        "id": "Bu0f_p6mCElI",
        "outputId": "a572a8f3-09dd-4388-d215-eafab2f6503d"
      },
      "execution_count": 17,
      "outputs": [
        {
          "output_type": "execute_result",
          "data": {
            "text/plain": [
              "    Drug    Age  Sex  Ascites  Hepatomegaly  Spiders  Edema  Bilirubin  \\\n",
              "ID                                                                       \n",
              "1      0  21464    1        1             1        1      1       14.5   \n",
              "2      0  20617    1        0             1        1      0        1.1   \n",
              "3      0  25594    0        0             0        0     -1        1.4   \n",
              "4      0  19994    1        0             1        1     -1        1.8   \n",
              "5      1  13918    1        0             1        1      0        3.4   \n",
              "\n",
              "    Cholesterol  Albumin  Copper  Alk_Phos    SGOT  Tryglicerides  Platelets  \\\n",
              "ID                                                                             \n",
              "1         261.0     2.60   156.0    1718.0  137.95          172.0      190.0   \n",
              "2         302.0     4.14    54.0    7394.8  113.52           88.0      221.0   \n",
              "3         176.0     3.48   210.0     516.0   96.10           55.0      151.0   \n",
              "4         244.0     2.54    64.0    6121.8   60.63           92.0      183.0   \n",
              "5         279.0     3.53   143.0     671.0  113.15           72.0      136.0   \n",
              "\n",
              "    Prothrombin  \n",
              "ID               \n",
              "1          12.2  \n",
              "2          10.6  \n",
              "3          12.0  \n",
              "4          10.3  \n",
              "5          10.9  "
            ],
            "text/html": [
              "\n",
              "  <div id=\"df-e8609567-b6a0-486f-818b-ee1e826441b8\" class=\"colab-df-container\">\n",
              "    <div>\n",
              "<style scoped>\n",
              "    .dataframe tbody tr th:only-of-type {\n",
              "        vertical-align: middle;\n",
              "    }\n",
              "\n",
              "    .dataframe tbody tr th {\n",
              "        vertical-align: top;\n",
              "    }\n",
              "\n",
              "    .dataframe thead th {\n",
              "        text-align: right;\n",
              "    }\n",
              "</style>\n",
              "<table border=\"1\" class=\"dataframe\">\n",
              "  <thead>\n",
              "    <tr style=\"text-align: right;\">\n",
              "      <th></th>\n",
              "      <th>Drug</th>\n",
              "      <th>Age</th>\n",
              "      <th>Sex</th>\n",
              "      <th>Ascites</th>\n",
              "      <th>Hepatomegaly</th>\n",
              "      <th>Spiders</th>\n",
              "      <th>Edema</th>\n",
              "      <th>Bilirubin</th>\n",
              "      <th>Cholesterol</th>\n",
              "      <th>Albumin</th>\n",
              "      <th>Copper</th>\n",
              "      <th>Alk_Phos</th>\n",
              "      <th>SGOT</th>\n",
              "      <th>Tryglicerides</th>\n",
              "      <th>Platelets</th>\n",
              "      <th>Prothrombin</th>\n",
              "    </tr>\n",
              "    <tr>\n",
              "      <th>ID</th>\n",
              "      <th></th>\n",
              "      <th></th>\n",
              "      <th></th>\n",
              "      <th></th>\n",
              "      <th></th>\n",
              "      <th></th>\n",
              "      <th></th>\n",
              "      <th></th>\n",
              "      <th></th>\n",
              "      <th></th>\n",
              "      <th></th>\n",
              "      <th></th>\n",
              "      <th></th>\n",
              "      <th></th>\n",
              "      <th></th>\n",
              "      <th></th>\n",
              "    </tr>\n",
              "  </thead>\n",
              "  <tbody>\n",
              "    <tr>\n",
              "      <th>1</th>\n",
              "      <td>0</td>\n",
              "      <td>21464</td>\n",
              "      <td>1</td>\n",
              "      <td>1</td>\n",
              "      <td>1</td>\n",
              "      <td>1</td>\n",
              "      <td>1</td>\n",
              "      <td>14.5</td>\n",
              "      <td>261.0</td>\n",
              "      <td>2.60</td>\n",
              "      <td>156.0</td>\n",
              "      <td>1718.0</td>\n",
              "      <td>137.95</td>\n",
              "      <td>172.0</td>\n",
              "      <td>190.0</td>\n",
              "      <td>12.2</td>\n",
              "    </tr>\n",
              "    <tr>\n",
              "      <th>2</th>\n",
              "      <td>0</td>\n",
              "      <td>20617</td>\n",
              "      <td>1</td>\n",
              "      <td>0</td>\n",
              "      <td>1</td>\n",
              "      <td>1</td>\n",
              "      <td>0</td>\n",
              "      <td>1.1</td>\n",
              "      <td>302.0</td>\n",
              "      <td>4.14</td>\n",
              "      <td>54.0</td>\n",
              "      <td>7394.8</td>\n",
              "      <td>113.52</td>\n",
              "      <td>88.0</td>\n",
              "      <td>221.0</td>\n",
              "      <td>10.6</td>\n",
              "    </tr>\n",
              "    <tr>\n",
              "      <th>3</th>\n",
              "      <td>0</td>\n",
              "      <td>25594</td>\n",
              "      <td>0</td>\n",
              "      <td>0</td>\n",
              "      <td>0</td>\n",
              "      <td>0</td>\n",
              "      <td>-1</td>\n",
              "      <td>1.4</td>\n",
              "      <td>176.0</td>\n",
              "      <td>3.48</td>\n",
              "      <td>210.0</td>\n",
              "      <td>516.0</td>\n",
              "      <td>96.10</td>\n",
              "      <td>55.0</td>\n",
              "      <td>151.0</td>\n",
              "      <td>12.0</td>\n",
              "    </tr>\n",
              "    <tr>\n",
              "      <th>4</th>\n",
              "      <td>0</td>\n",
              "      <td>19994</td>\n",
              "      <td>1</td>\n",
              "      <td>0</td>\n",
              "      <td>1</td>\n",
              "      <td>1</td>\n",
              "      <td>-1</td>\n",
              "      <td>1.8</td>\n",
              "      <td>244.0</td>\n",
              "      <td>2.54</td>\n",
              "      <td>64.0</td>\n",
              "      <td>6121.8</td>\n",
              "      <td>60.63</td>\n",
              "      <td>92.0</td>\n",
              "      <td>183.0</td>\n",
              "      <td>10.3</td>\n",
              "    </tr>\n",
              "    <tr>\n",
              "      <th>5</th>\n",
              "      <td>1</td>\n",
              "      <td>13918</td>\n",
              "      <td>1</td>\n",
              "      <td>0</td>\n",
              "      <td>1</td>\n",
              "      <td>1</td>\n",
              "      <td>0</td>\n",
              "      <td>3.4</td>\n",
              "      <td>279.0</td>\n",
              "      <td>3.53</td>\n",
              "      <td>143.0</td>\n",
              "      <td>671.0</td>\n",
              "      <td>113.15</td>\n",
              "      <td>72.0</td>\n",
              "      <td>136.0</td>\n",
              "      <td>10.9</td>\n",
              "    </tr>\n",
              "  </tbody>\n",
              "</table>\n",
              "</div>\n",
              "    <div class=\"colab-df-buttons\">\n",
              "\n",
              "  <div class=\"colab-df-container\">\n",
              "    <button class=\"colab-df-convert\" onclick=\"convertToInteractive('df-e8609567-b6a0-486f-818b-ee1e826441b8')\"\n",
              "            title=\"Convert this dataframe to an interactive table.\"\n",
              "            style=\"display:none;\">\n",
              "\n",
              "  <svg xmlns=\"http://www.w3.org/2000/svg\" height=\"24px\" viewBox=\"0 -960 960 960\">\n",
              "    <path d=\"M120-120v-720h720v720H120Zm60-500h600v-160H180v160Zm220 220h160v-160H400v160Zm0 220h160v-160H400v160ZM180-400h160v-160H180v160Zm440 0h160v-160H620v160ZM180-180h160v-160H180v160Zm440 0h160v-160H620v160Z\"/>\n",
              "  </svg>\n",
              "    </button>\n",
              "\n",
              "  <style>\n",
              "    .colab-df-container {\n",
              "      display:flex;\n",
              "      gap: 12px;\n",
              "    }\n",
              "\n",
              "    .colab-df-convert {\n",
              "      background-color: #E8F0FE;\n",
              "      border: none;\n",
              "      border-radius: 50%;\n",
              "      cursor: pointer;\n",
              "      display: none;\n",
              "      fill: #1967D2;\n",
              "      height: 32px;\n",
              "      padding: 0 0 0 0;\n",
              "      width: 32px;\n",
              "    }\n",
              "\n",
              "    .colab-df-convert:hover {\n",
              "      background-color: #E2EBFA;\n",
              "      box-shadow: 0px 1px 2px rgba(60, 64, 67, 0.3), 0px 1px 3px 1px rgba(60, 64, 67, 0.15);\n",
              "      fill: #174EA6;\n",
              "    }\n",
              "\n",
              "    .colab-df-buttons div {\n",
              "      margin-bottom: 4px;\n",
              "    }\n",
              "\n",
              "    [theme=dark] .colab-df-convert {\n",
              "      background-color: #3B4455;\n",
              "      fill: #D2E3FC;\n",
              "    }\n",
              "\n",
              "    [theme=dark] .colab-df-convert:hover {\n",
              "      background-color: #434B5C;\n",
              "      box-shadow: 0px 1px 3px 1px rgba(0, 0, 0, 0.15);\n",
              "      filter: drop-shadow(0px 1px 2px rgba(0, 0, 0, 0.3));\n",
              "      fill: #FFFFFF;\n",
              "    }\n",
              "  </style>\n",
              "\n",
              "    <script>\n",
              "      const buttonEl =\n",
              "        document.querySelector('#df-e8609567-b6a0-486f-818b-ee1e826441b8 button.colab-df-convert');\n",
              "      buttonEl.style.display =\n",
              "        google.colab.kernel.accessAllowed ? 'block' : 'none';\n",
              "\n",
              "      async function convertToInteractive(key) {\n",
              "        const element = document.querySelector('#df-e8609567-b6a0-486f-818b-ee1e826441b8');\n",
              "        const dataTable =\n",
              "          await google.colab.kernel.invokeFunction('convertToInteractive',\n",
              "                                                    [key], {});\n",
              "        if (!dataTable) return;\n",
              "\n",
              "        const docLinkHtml = 'Like what you see? Visit the ' +\n",
              "          '<a target=\"_blank\" href=https://colab.research.google.com/notebooks/data_table.ipynb>data table notebook</a>'\n",
              "          + ' to learn more about interactive tables.';\n",
              "        element.innerHTML = '';\n",
              "        dataTable['output_type'] = 'display_data';\n",
              "        await google.colab.output.renderOutput(dataTable, element);\n",
              "        const docLink = document.createElement('div');\n",
              "        docLink.innerHTML = docLinkHtml;\n",
              "        element.appendChild(docLink);\n",
              "      }\n",
              "    </script>\n",
              "  </div>\n",
              "\n",
              "\n",
              "<div id=\"df-92064f8b-94b5-4673-a6f0-1befa90b5afb\">\n",
              "  <button class=\"colab-df-quickchart\" onclick=\"quickchart('df-92064f8b-94b5-4673-a6f0-1befa90b5afb')\"\n",
              "            title=\"Suggest charts\"\n",
              "            style=\"display:none;\">\n",
              "\n",
              "<svg xmlns=\"http://www.w3.org/2000/svg\" height=\"24px\"viewBox=\"0 0 24 24\"\n",
              "     width=\"24px\">\n",
              "    <g>\n",
              "        <path d=\"M19 3H5c-1.1 0-2 .9-2 2v14c0 1.1.9 2 2 2h14c1.1 0 2-.9 2-2V5c0-1.1-.9-2-2-2zM9 17H7v-7h2v7zm4 0h-2V7h2v10zm4 0h-2v-4h2v4z\"/>\n",
              "    </g>\n",
              "</svg>\n",
              "  </button>\n",
              "\n",
              "<style>\n",
              "  .colab-df-quickchart {\n",
              "      --bg-color: #E8F0FE;\n",
              "      --fill-color: #1967D2;\n",
              "      --hover-bg-color: #E2EBFA;\n",
              "      --hover-fill-color: #174EA6;\n",
              "      --disabled-fill-color: #AAA;\n",
              "      --disabled-bg-color: #DDD;\n",
              "  }\n",
              "\n",
              "  [theme=dark] .colab-df-quickchart {\n",
              "      --bg-color: #3B4455;\n",
              "      --fill-color: #D2E3FC;\n",
              "      --hover-bg-color: #434B5C;\n",
              "      --hover-fill-color: #FFFFFF;\n",
              "      --disabled-bg-color: #3B4455;\n",
              "      --disabled-fill-color: #666;\n",
              "  }\n",
              "\n",
              "  .colab-df-quickchart {\n",
              "    background-color: var(--bg-color);\n",
              "    border: none;\n",
              "    border-radius: 50%;\n",
              "    cursor: pointer;\n",
              "    display: none;\n",
              "    fill: var(--fill-color);\n",
              "    height: 32px;\n",
              "    padding: 0;\n",
              "    width: 32px;\n",
              "  }\n",
              "\n",
              "  .colab-df-quickchart:hover {\n",
              "    background-color: var(--hover-bg-color);\n",
              "    box-shadow: 0 1px 2px rgba(60, 64, 67, 0.3), 0 1px 3px 1px rgba(60, 64, 67, 0.15);\n",
              "    fill: var(--button-hover-fill-color);\n",
              "  }\n",
              "\n",
              "  .colab-df-quickchart-complete:disabled,\n",
              "  .colab-df-quickchart-complete:disabled:hover {\n",
              "    background-color: var(--disabled-bg-color);\n",
              "    fill: var(--disabled-fill-color);\n",
              "    box-shadow: none;\n",
              "  }\n",
              "\n",
              "  .colab-df-spinner {\n",
              "    border: 2px solid var(--fill-color);\n",
              "    border-color: transparent;\n",
              "    border-bottom-color: var(--fill-color);\n",
              "    animation:\n",
              "      spin 1s steps(1) infinite;\n",
              "  }\n",
              "\n",
              "  @keyframes spin {\n",
              "    0% {\n",
              "      border-color: transparent;\n",
              "      border-bottom-color: var(--fill-color);\n",
              "      border-left-color: var(--fill-color);\n",
              "    }\n",
              "    20% {\n",
              "      border-color: transparent;\n",
              "      border-left-color: var(--fill-color);\n",
              "      border-top-color: var(--fill-color);\n",
              "    }\n",
              "    30% {\n",
              "      border-color: transparent;\n",
              "      border-left-color: var(--fill-color);\n",
              "      border-top-color: var(--fill-color);\n",
              "      border-right-color: var(--fill-color);\n",
              "    }\n",
              "    40% {\n",
              "      border-color: transparent;\n",
              "      border-right-color: var(--fill-color);\n",
              "      border-top-color: var(--fill-color);\n",
              "    }\n",
              "    60% {\n",
              "      border-color: transparent;\n",
              "      border-right-color: var(--fill-color);\n",
              "    }\n",
              "    80% {\n",
              "      border-color: transparent;\n",
              "      border-right-color: var(--fill-color);\n",
              "      border-bottom-color: var(--fill-color);\n",
              "    }\n",
              "    90% {\n",
              "      border-color: transparent;\n",
              "      border-bottom-color: var(--fill-color);\n",
              "    }\n",
              "  }\n",
              "</style>\n",
              "\n",
              "  <script>\n",
              "    async function quickchart(key) {\n",
              "      const quickchartButtonEl =\n",
              "        document.querySelector('#' + key + ' button');\n",
              "      quickchartButtonEl.disabled = true;  // To prevent multiple clicks.\n",
              "      quickchartButtonEl.classList.add('colab-df-spinner');\n",
              "      try {\n",
              "        const charts = await google.colab.kernel.invokeFunction(\n",
              "            'suggestCharts', [key], {});\n",
              "      } catch (error) {\n",
              "        console.error('Error during call to suggestCharts:', error);\n",
              "      }\n",
              "      quickchartButtonEl.classList.remove('colab-df-spinner');\n",
              "      quickchartButtonEl.classList.add('colab-df-quickchart-complete');\n",
              "    }\n",
              "    (() => {\n",
              "      let quickchartButtonEl =\n",
              "        document.querySelector('#df-92064f8b-94b5-4673-a6f0-1befa90b5afb button');\n",
              "      quickchartButtonEl.style.display =\n",
              "        google.colab.kernel.accessAllowed ? 'block' : 'none';\n",
              "    })();\n",
              "  </script>\n",
              "</div>\n",
              "    </div>\n",
              "  </div>\n"
            ]
          },
          "metadata": {},
          "execution_count": 17
        }
      ]
    },
    {
      "cell_type": "code",
      "source": [
        "X_train, X_test, y_train, y_test = train_test_split(X, y, test_size=0.2)"
      ],
      "metadata": {
        "id": "C-JBRidkBIN9"
      },
      "execution_count": 18,
      "outputs": []
    },
    {
      "cell_type": "code",
      "source": [
        "def catboost_fit_n_predict(X_train, y_train):\n",
        "    params = {'learning_rate': 0.013000000000000001, 'depth': 9, 'l2_leaf_reg': 4.0, 'min_child_samples': 16}\n",
        "    catboost = CatBoostClassifier(**params,\n",
        "                loss_function='CrossEntropy',\n",
        "                thread_count = -1,\n",
        "                iterations=10000,\n",
        "                od_type = \"Iter\",\n",
        "                od_wait = 100\n",
        "    )\n",
        "    catboost.fit(X_train, y_train, verbose=1000)\n",
        "    pickle.dump(catboost, open('catboost_model.pkl', 'wb'))"
      ],
      "metadata": {
        "id": "cHk__rp1CMWK"
      },
      "execution_count": 25,
      "outputs": []
    },
    {
      "cell_type": "code",
      "source": [
        "def xgboost_fit_n_predict( X_train, y_train):\n",
        "    xgboost = xgb.XGBClassifier(colsample_bylevel=0.9302223936374205,\n",
        "                 colsample_bytree=0.9429378401963584, grow_policy='lossguide',\n",
        "                 learning_rate=0.14274564481193724, max_depth=0, max_leaves=251,\n",
        "                 min_child_weight=0.08755625167703927, n_estimators=10000, n_jobs=-1,\n",
        "                 reg_alpha=0.007824467127046418, reg_lambda=3.359652218351442,\n",
        "                 subsample=0.6859925748081124, tree_method='hist',\n",
        "                 use_label_encoder=False, verbosity=1)\n",
        "    xgboost.fit(X_train, y_train)\n",
        "    pickle.dump(xgboost, open('xgboost_model.pkl', 'wb'))"
      ],
      "metadata": {
        "id": "UaHGi-h_CMNb"
      },
      "execution_count": 30,
      "outputs": []
    },
    {
      "cell_type": "code",
      "source": [
        "def mlp_fit(X_train, y_train, X_validation, y_validation):\n",
        "    epochs = 64\n",
        "    batch = 32\n",
        "    lr = 0.00003\n",
        "    adam = optimizers.Adam(lr)\n",
        "    model_mlp = Sequential()\n",
        "    model_mlp.add(Dense(256, activation='relu', input_dim=X_train.shape[1]))\n",
        "    model_mlp.add(Dense(128, activation='relu'))\n",
        "    model_mlp.add(Dense(64, activation='relu'))\n",
        "    model_mlp.add(Dense(32, activation='relu'))\n",
        "    model_mlp.add(Dense(16, activation='relu'))\n",
        "    model_mlp.add(Dense(8, activation='relu'))\n",
        "    model_mlp.add(Dense(4, activation='relu'))\n",
        "    model_mlp.add(Dense(1, activation='sigmoid'))\n",
        "    model_mlp.compile(loss='binary_crossentropy', optimizer=adam, metrics=['binary_accuracy'])\n",
        "    callbacks = [keras.callbacks.EarlyStopping(monitor='loss', patience=10, restore_best_weights=True)]\n",
        "    model_mlp.fit(X_train, y_train, validation_data=(X_test, y_test), epochs=epochs, batch_size=batch, verbose=1, callbacks=callbacks)\n",
        "    pickle.dump(model_mlp, open('mlp_model.pkl', 'wb'))"
      ],
      "metadata": {
        "id": "joAE0B9S7CR0"
      },
      "execution_count": 36,
      "outputs": []
    },
    {
      "cell_type": "code",
      "source": [
        "catboost_fit_n_predict(X_train, y_train)"
      ],
      "metadata": {
        "colab": {
          "base_uri": "https://localhost:8080/"
        },
        "id": "_lkTxJhN9dfm",
        "outputId": "76f4fda6-362b-4ae4-cc36-3548bf517d2e"
      },
      "execution_count": 28,
      "outputs": [
        {
          "output_type": "stream",
          "name": "stdout",
          "text": [
            "0:\tlearn: 0.6867212\ttotal: 75.8ms\tremaining: 12m 37s\n",
            "1000:\tlearn: 0.0377054\ttotal: 14.3s\tremaining: 2m 8s\n",
            "2000:\tlearn: 0.0138482\ttotal: 35.2s\tremaining: 2m 20s\n",
            "3000:\tlearn: 0.0083115\ttotal: 46.3s\tremaining: 1m 47s\n",
            "4000:\tlearn: 0.0057938\ttotal: 58.5s\tremaining: 1m 27s\n",
            "5000:\tlearn: 0.0044386\ttotal: 1m 10s\tremaining: 1m 10s\n",
            "6000:\tlearn: 0.0035898\ttotal: 1m 22s\tremaining: 55.2s\n",
            "7000:\tlearn: 0.0030072\ttotal: 1m 35s\tremaining: 40.7s\n",
            "8000:\tlearn: 0.0026079\ttotal: 1m 47s\tremaining: 26.8s\n",
            "9000:\tlearn: 0.0023171\ttotal: 1m 58s\tremaining: 13.1s\n",
            "9999:\tlearn: 0.0020969\ttotal: 2m 9s\tremaining: 0us\n"
          ]
        }
      ]
    },
    {
      "cell_type": "code",
      "source": [
        "xgboost_fit_n_predict( X_train, y_train)"
      ],
      "metadata": {
        "id": "hN-D1NkN9ksy"
      },
      "execution_count": 31,
      "outputs": []
    },
    {
      "cell_type": "code",
      "source": [
        "mlp_fit(X_train, y_train, X_test, y_test)"
      ],
      "metadata": {
        "colab": {
          "base_uri": "https://localhost:8080/"
        },
        "id": "OmSvXUCf9nt4",
        "outputId": "ef3270f5-2df5-46f6-e5da-ac6994454169"
      },
      "execution_count": 37,
      "outputs": [
        {
          "output_type": "stream",
          "name": "stdout",
          "text": [
            "Epoch 1/64\n",
            "11/11 [==============================] - 2s 27ms/step - loss: 200.7129 - binary_accuracy: 0.3443 - val_loss: 165.5658 - val_binary_accuracy: 0.3452\n",
            "Epoch 2/64\n",
            "11/11 [==============================] - 0s 8ms/step - loss: 154.2631 - binary_accuracy: 0.3443 - val_loss: 124.5081 - val_binary_accuracy: 0.3452\n",
            "Epoch 3/64\n",
            "11/11 [==============================] - 0s 8ms/step - loss: 109.2048 - binary_accuracy: 0.3443 - val_loss: 76.8694 - val_binary_accuracy: 0.3452\n",
            "Epoch 4/64\n",
            "11/11 [==============================] - 0s 10ms/step - loss: 74.6203 - binary_accuracy: 0.3443 - val_loss: 60.7503 - val_binary_accuracy: 0.3452\n",
            "Epoch 5/64\n",
            "11/11 [==============================] - 0s 9ms/step - loss: 55.4620 - binary_accuracy: 0.3443 - val_loss: 44.0924 - val_binary_accuracy: 0.3452\n",
            "Epoch 6/64\n",
            "11/11 [==============================] - 0s 9ms/step - loss: 41.1407 - binary_accuracy: 0.3443 - val_loss: 32.8043 - val_binary_accuracy: 0.3452\n",
            "Epoch 7/64\n",
            "11/11 [==============================] - 0s 10ms/step - loss: 31.0540 - binary_accuracy: 0.3443 - val_loss: 25.4112 - val_binary_accuracy: 0.3452\n",
            "Epoch 8/64\n",
            "11/11 [==============================] - 0s 8ms/step - loss: 24.4031 - binary_accuracy: 0.3443 - val_loss: 19.9626 - val_binary_accuracy: 0.3452\n",
            "Epoch 9/64\n",
            "11/11 [==============================] - 0s 8ms/step - loss: 19.0989 - binary_accuracy: 0.3443 - val_loss: 15.1743 - val_binary_accuracy: 0.3452\n",
            "Epoch 10/64\n",
            "11/11 [==============================] - 0s 9ms/step - loss: 14.2285 - binary_accuracy: 0.3473 - val_loss: 11.3139 - val_binary_accuracy: 0.3452\n",
            "Epoch 11/64\n",
            "11/11 [==============================] - 0s 8ms/step - loss: 9.9606 - binary_accuracy: 0.3563 - val_loss: 8.1748 - val_binary_accuracy: 0.3452\n",
            "Epoch 12/64\n",
            "11/11 [==============================] - 0s 8ms/step - loss: 6.2375 - binary_accuracy: 0.3623 - val_loss: 1.8639 - val_binary_accuracy: 0.3690\n",
            "Epoch 13/64\n",
            "11/11 [==============================] - 0s 7ms/step - loss: 1.4330 - binary_accuracy: 0.5898 - val_loss: 1.1758 - val_binary_accuracy: 0.6310\n",
            "Epoch 14/64\n",
            "11/11 [==============================] - 0s 7ms/step - loss: 1.2580 - binary_accuracy: 0.5299 - val_loss: 1.2597 - val_binary_accuracy: 0.6667\n",
            "Epoch 15/64\n",
            "11/11 [==============================] - 0s 10ms/step - loss: 1.0664 - binary_accuracy: 0.4970 - val_loss: 0.9865 - val_binary_accuracy: 0.3690\n",
            "Epoch 16/64\n",
            "11/11 [==============================] - 0s 9ms/step - loss: 0.7907 - binary_accuracy: 0.6347 - val_loss: 0.6304 - val_binary_accuracy: 0.6548\n",
            "Epoch 17/64\n",
            "11/11 [==============================] - 0s 9ms/step - loss: 0.6744 - binary_accuracy: 0.6557 - val_loss: 0.6720 - val_binary_accuracy: 0.6548\n",
            "Epoch 18/64\n",
            "11/11 [==============================] - 0s 7ms/step - loss: 0.6864 - binary_accuracy: 0.6557 - val_loss: 0.6675 - val_binary_accuracy: 0.6548\n",
            "Epoch 19/64\n",
            "11/11 [==============================] - 0s 8ms/step - loss: 0.6792 - binary_accuracy: 0.6557 - val_loss: 0.6357 - val_binary_accuracy: 0.6548\n",
            "Epoch 20/64\n",
            "11/11 [==============================] - 0s 8ms/step - loss: 0.6770 - binary_accuracy: 0.6557 - val_loss: 0.6330 - val_binary_accuracy: 0.6548\n",
            "Epoch 21/64\n",
            "11/11 [==============================] - 0s 7ms/step - loss: 0.6724 - binary_accuracy: 0.6557 - val_loss: 0.6354 - val_binary_accuracy: 0.6548\n",
            "Epoch 22/64\n",
            "11/11 [==============================] - 0s 7ms/step - loss: 0.6773 - binary_accuracy: 0.6557 - val_loss: 0.6444 - val_binary_accuracy: 0.6548\n",
            "Epoch 23/64\n",
            "11/11 [==============================] - 0s 7ms/step - loss: 0.6713 - binary_accuracy: 0.6557 - val_loss: 0.6409 - val_binary_accuracy: 0.6548\n",
            "Epoch 24/64\n",
            "11/11 [==============================] - 0s 9ms/step - loss: 0.6704 - binary_accuracy: 0.6557 - val_loss: 0.6384 - val_binary_accuracy: 0.6548\n",
            "Epoch 25/64\n",
            "11/11 [==============================] - 0s 8ms/step - loss: 0.6706 - binary_accuracy: 0.6557 - val_loss: 0.6381 - val_binary_accuracy: 0.6548\n",
            "Epoch 26/64\n",
            "11/11 [==============================] - 0s 9ms/step - loss: 0.6696 - binary_accuracy: 0.6557 - val_loss: 0.6457 - val_binary_accuracy: 0.6548\n",
            "Epoch 27/64\n",
            "11/11 [==============================] - 0s 8ms/step - loss: 0.6686 - binary_accuracy: 0.6557 - val_loss: 0.6368 - val_binary_accuracy: 0.6548\n",
            "Epoch 28/64\n",
            "11/11 [==============================] - 0s 7ms/step - loss: 0.6680 - binary_accuracy: 0.6557 - val_loss: 0.6361 - val_binary_accuracy: 0.6548\n",
            "Epoch 29/64\n",
            "11/11 [==============================] - 0s 7ms/step - loss: 0.6661 - binary_accuracy: 0.6557 - val_loss: 0.6320 - val_binary_accuracy: 0.6548\n",
            "Epoch 30/64\n",
            "11/11 [==============================] - 0s 9ms/step - loss: 0.6633 - binary_accuracy: 0.6557 - val_loss: 0.6327 - val_binary_accuracy: 0.6548\n",
            "Epoch 31/64\n",
            "11/11 [==============================] - 0s 8ms/step - loss: 0.6649 - binary_accuracy: 0.6557 - val_loss: 0.6333 - val_binary_accuracy: 0.6548\n",
            "Epoch 32/64\n",
            "11/11 [==============================] - 0s 7ms/step - loss: 0.6632 - binary_accuracy: 0.6557 - val_loss: 0.6316 - val_binary_accuracy: 0.6548\n",
            "Epoch 33/64\n",
            "11/11 [==============================] - 0s 8ms/step - loss: 0.6633 - binary_accuracy: 0.6557 - val_loss: 0.6338 - val_binary_accuracy: 0.6548\n",
            "Epoch 34/64\n",
            "11/11 [==============================] - 0s 8ms/step - loss: 0.6637 - binary_accuracy: 0.6557 - val_loss: 0.6347 - val_binary_accuracy: 0.6548\n",
            "Epoch 35/64\n",
            "11/11 [==============================] - 0s 9ms/step - loss: 0.6621 - binary_accuracy: 0.6557 - val_loss: 0.6337 - val_binary_accuracy: 0.6548\n",
            "Epoch 36/64\n",
            "11/11 [==============================] - 0s 8ms/step - loss: 0.6623 - binary_accuracy: 0.6557 - val_loss: 0.6331 - val_binary_accuracy: 0.6548\n",
            "Epoch 37/64\n",
            "11/11 [==============================] - 0s 8ms/step - loss: 0.6642 - binary_accuracy: 0.6557 - val_loss: 0.6317 - val_binary_accuracy: 0.6548\n",
            "Epoch 38/64\n",
            "11/11 [==============================] - 0s 8ms/step - loss: 0.6616 - binary_accuracy: 0.6557 - val_loss: 0.6361 - val_binary_accuracy: 0.6548\n",
            "Epoch 39/64\n",
            "11/11 [==============================] - 0s 7ms/step - loss: 0.6613 - binary_accuracy: 0.6557 - val_loss: 0.6356 - val_binary_accuracy: 0.6429\n",
            "Epoch 40/64\n",
            "11/11 [==============================] - 0s 9ms/step - loss: 0.6577 - binary_accuracy: 0.6587 - val_loss: 0.6530 - val_binary_accuracy: 0.6310\n",
            "Epoch 41/64\n",
            "11/11 [==============================] - 0s 9ms/step - loss: 0.6514 - binary_accuracy: 0.6707 - val_loss: 0.6649 - val_binary_accuracy: 0.6310\n",
            "Epoch 42/64\n",
            "11/11 [==============================] - 0s 8ms/step - loss: 0.6533 - binary_accuracy: 0.6677 - val_loss: 0.6488 - val_binary_accuracy: 0.6310\n",
            "Epoch 43/64\n",
            "11/11 [==============================] - 0s 9ms/step - loss: 0.6503 - binary_accuracy: 0.6707 - val_loss: 0.6606 - val_binary_accuracy: 0.6190\n",
            "Epoch 44/64\n",
            "11/11 [==============================] - 0s 9ms/step - loss: 0.6527 - binary_accuracy: 0.6677 - val_loss: 0.6466 - val_binary_accuracy: 0.6310\n",
            "Epoch 45/64\n",
            "11/11 [==============================] - 0s 7ms/step - loss: 0.6546 - binary_accuracy: 0.6737 - val_loss: 0.6795 - val_binary_accuracy: 0.5833\n",
            "Epoch 46/64\n",
            "11/11 [==============================] - 0s 7ms/step - loss: 0.6573 - binary_accuracy: 0.6647 - val_loss: 0.6532 - val_binary_accuracy: 0.6071\n",
            "Epoch 47/64\n",
            "11/11 [==============================] - 0s 7ms/step - loss: 0.6530 - binary_accuracy: 0.6677 - val_loss: 0.6281 - val_binary_accuracy: 0.6429\n",
            "Epoch 48/64\n",
            "11/11 [==============================] - 0s 9ms/step - loss: 0.6714 - binary_accuracy: 0.6647 - val_loss: 0.6631 - val_binary_accuracy: 0.6071\n",
            "Epoch 49/64\n",
            "11/11 [==============================] - 0s 9ms/step - loss: 0.6504 - binary_accuracy: 0.6707 - val_loss: 0.6476 - val_binary_accuracy: 0.6071\n",
            "Epoch 50/64\n",
            "11/11 [==============================] - 0s 9ms/step - loss: 0.6585 - binary_accuracy: 0.6677 - val_loss: 0.7080 - val_binary_accuracy: 0.5476\n",
            "Epoch 51/64\n",
            "11/11 [==============================] - 0s 8ms/step - loss: 0.6668 - binary_accuracy: 0.6587 - val_loss: 0.6374 - val_binary_accuracy: 0.6429\n",
            "Epoch 52/64\n",
            "11/11 [==============================] - 0s 8ms/step - loss: 0.6510 - binary_accuracy: 0.6707 - val_loss: 0.6544 - val_binary_accuracy: 0.6190\n",
            "Epoch 53/64\n",
            "11/11 [==============================] - 0s 8ms/step - loss: 0.6448 - binary_accuracy: 0.6677 - val_loss: 0.6632 - val_binary_accuracy: 0.5952\n",
            "Epoch 54/64\n",
            "11/11 [==============================] - 0s 10ms/step - loss: 0.6448 - binary_accuracy: 0.6796 - val_loss: 0.6620 - val_binary_accuracy: 0.5952\n",
            "Epoch 55/64\n",
            "11/11 [==============================] - 0s 8ms/step - loss: 0.6447 - binary_accuracy: 0.6707 - val_loss: 0.6339 - val_binary_accuracy: 0.6429\n",
            "Epoch 56/64\n",
            "11/11 [==============================] - 0s 9ms/step - loss: 0.6428 - binary_accuracy: 0.6677 - val_loss: 0.6937 - val_binary_accuracy: 0.5714\n",
            "Epoch 57/64\n",
            "11/11 [==============================] - 0s 8ms/step - loss: 0.6515 - binary_accuracy: 0.6737 - val_loss: 0.6352 - val_binary_accuracy: 0.6429\n",
            "Epoch 58/64\n",
            "11/11 [==============================] - 0s 10ms/step - loss: 0.6506 - binary_accuracy: 0.6737 - val_loss: 0.6540 - val_binary_accuracy: 0.6071\n",
            "Epoch 59/64\n",
            "11/11 [==============================] - 0s 9ms/step - loss: 0.6438 - binary_accuracy: 0.6677 - val_loss: 0.6612 - val_binary_accuracy: 0.6190\n",
            "Epoch 60/64\n",
            "11/11 [==============================] - 0s 8ms/step - loss: 0.6612 - binary_accuracy: 0.6617 - val_loss: 0.6418 - val_binary_accuracy: 0.6548\n",
            "Epoch 61/64\n",
            "11/11 [==============================] - 0s 8ms/step - loss: 0.6494 - binary_accuracy: 0.6647 - val_loss: 0.6316 - val_binary_accuracy: 0.6548\n",
            "Epoch 62/64\n",
            "11/11 [==============================] - 0s 8ms/step - loss: 0.6470 - binary_accuracy: 0.6796 - val_loss: 0.6913 - val_binary_accuracy: 0.5714\n",
            "Epoch 63/64\n",
            "11/11 [==============================] - 0s 8ms/step - loss: 0.6552 - binary_accuracy: 0.6557 - val_loss: 0.6216 - val_binary_accuracy: 0.6548\n",
            "Epoch 64/64\n",
            "11/11 [==============================] - 0s 8ms/step - loss: 0.6492 - binary_accuracy: 0.6557 - val_loss: 0.6331 - val_binary_accuracy: 0.6548\n"
          ]
        }
      ]
    },
    {
      "cell_type": "code",
      "source": [
        "!zip models.zip -r models"
      ],
      "metadata": {
        "colab": {
          "base_uri": "https://localhost:8080/"
        },
        "id": "RcfhWbhb_04M",
        "outputId": "2ad6fdc5-e392-47bf-9410-7bdc1f039da7"
      },
      "execution_count": 38,
      "outputs": [
        {
          "output_type": "stream",
          "name": "stdout",
          "text": [
            "  adding: models/ (stored 0%)\n",
            "  adding: models/xgboost_model.pkl (deflated 84%)\n",
            "  adding: models/mlp_model.pkl (deflated 41%)\n",
            "  adding: models/catboost_model.pkl (deflated 90%)\n"
          ]
        }
      ]
    }
  ]
}